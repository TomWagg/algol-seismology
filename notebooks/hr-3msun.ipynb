{
 "cells": [
  {
   "cell_type": "markdown",
   "metadata": {},
   "source": [
    "# HR Diagram for 3 $M_{\\odot}$ star\n",
    "\n",
    "(stole a lot of this code from Earl)"
   ]
  },
  {
   "cell_type": "code",
   "execution_count": 1,
   "metadata": {
    "ExecuteTime": {
     "end_time": "2023-06-29T12:17:46.489556Z",
     "start_time": "2023-06-29T12:17:45.248523Z"
    },
    "tags": []
   },
   "outputs": [],
   "source": [
    "import os\n",
    "\n",
    "import numpy as np\n",
    "import scipy as sp\n",
    "import pandas as pd\n",
    "\n",
    "import matplotlib as mpl\n",
    "import matplotlib.pyplot as plt\n",
    "from matplotlib.pyplot import cm\n",
    "\n",
    "from ipywidgets import interact, IntSlider\n",
    "\n",
    "import seaborn as sns"
   ]
  },
  {
   "cell_type": "code",
   "execution_count": 501,
   "metadata": {
    "ExecuteTime": {
     "end_time": "2023-06-29T12:17:46.494359Z",
     "start_time": "2023-06-29T12:17:46.491205Z"
    },
    "tags": []
   },
   "outputs": [],
   "source": [
    "%config InlineBackend.figure_format = 'retina'\n",
    "\n",
    "plt.rc('font', family='serif')\n",
    "plt.rcParams['text.usetex'] = False\n",
    "fs = 24\n",
    "\n",
    "# update various fontsizes to match\n",
    "params = {'figure.figsize': (12, 8),\n",
    "          'legend.fontsize': 0.6*fs,\n",
    "          'axes.labelsize': 0.8*fs,\n",
    "          'xtick.labelsize': 0.6 * fs,\n",
    "          'ytick.labelsize': 0.6 * fs,\n",
    "          'axes.linewidth': 1.1,\n",
    "          'xtick.major.size': 7,\n",
    "          'xtick.minor.size': 4,\n",
    "          'ytick.major.size': 7,\n",
    "          'ytick.minor.size': 4}\n",
    "plt.rcParams.update(params)"
   ]
  },
  {
   "cell_type": "code",
   "execution_count": 3,
   "metadata": {
    "tags": []
   },
   "outputs": [],
   "source": [
    "from importlib import reload\n",
    "import sys\n",
    "sys.path.append(\"../\")\n",
    "\n",
    "import mesagrid"
   ]
  },
  {
   "cell_type": "code",
   "execution_count": 149,
   "metadata": {
    "tags": []
   },
   "outputs": [],
   "source": [
    "usecols_history = ['model_number', 'star_age', 'log_Teff', 'log_L',\n",
    "                   'center_h1', 'center_he4']\n",
    "cpus = 8\n",
    "\n",
    "track = mesagrid.Track(\"../template\",\n",
    "                       usecols_history=usecols_history,\n",
    "                       cpus=cpus)"
   ]
  },
  {
   "cell_type": "code",
   "execution_count": null,
   "metadata": {},
   "outputs": [],
   "source": [
    "spectras"
   ]
  },
  {
   "cell_type": "code",
   "execution_count": 226,
   "metadata": {
    "tags": []
   },
   "outputs": [
    {
     "data": {
      "text/plain": [
       "array([-0.30103   , -0.12493874, -0.09691001, -0.06214791, -0.01703334])"
      ]
     },
     "execution_count": 226,
     "metadata": {},
     "output_type": "execute_result"
    }
   ],
   "source": [
    "np.diff(np.log10(add_spectral_background(ax)[-1]))"
   ]
  },
  {
   "cell_type": "code",
   "execution_count": 229,
   "metadata": {
    "tags": []
   },
   "outputs": [
    {
     "data": {
      "text/plain": [
       "array([3.69897   , 3.75012253, 3.68124124, 3.65385544, 3.68193667])"
      ]
     },
     "execution_count": 229,
     "metadata": {},
     "output_type": "execute_result"
    }
   ],
   "source": [
    "10**(np.log10(add_spectral_background(ax)[-1][1:]) + np.diff(np.log10(add_spectral_background(ax)[-1])))"
   ]
  },
  {
   "cell_type": "code",
   "execution_count": 249,
   "metadata": {
    "ExecuteTime": {
     "end_time": "2023-06-29T12:17:46.733088Z",
     "start_time": "2023-06-29T12:17:46.703062Z"
    },
    "tags": []
   },
   "outputs": [],
   "source": [
    "types = ['X', 'O', 'B', 'A', 'F', 'G', 'K', 'M']\n",
    "spectrals = np.array([1e99, 30000, 10000, 7500, 6000, 5200, 3700, 2400])\n",
    "rgbs = [(1, 1, 1), # X, temp class just for setting upper bound \n",
    "        (175/255, 201/255, 1),       # O\n",
    "        (199/255, 216/255, 1),       # B\n",
    "        (1,       244/255, 243/255), # A \n",
    "        (1,       229/255, 207/255), # F \n",
    "        (1,       217/255, 178/255), # G \n",
    "        (1,       199/255, 142/255), # K \n",
    "        (1,       166/255, 81/255)]  # M\n",
    "\n",
    "def add_spectral_background(ax):\n",
    "    last = 1e6\n",
    "    for spectral, rgb in zip(spectrals, rgbs):\n",
    "        ax.fill_between([last, spectral], [1,1], [1e6,1e6], color=rgb, zorder=-99)\n",
    "        last = spectral\n",
    "    top = ax.twiny()\n",
    "    top.set_xlabel(r'Spectral class', labelpad=10)\n",
    "    \n",
    "    # logic to determine which labels to include \n",
    "    xmax, xmin = ax.get_xlim()\n",
    "    types_ = [] \n",
    "    spectrals_ = [] \n",
    "    for i in range(len(spectrals)):\n",
    "        if spectrals[i] >= xmax: \n",
    "            if i+1 <= len(spectrals) and spectrals[i+1] < xmax:\n",
    "                spectrals_ += [xmax]\n",
    "                types_ += [types[i]]\n",
    "        elif spectrals[i] <= xmin: \n",
    "            spectrals_ += [xmin]\n",
    "            types_ += [types[i]]\n",
    "            break\n",
    "        else:\n",
    "            spectrals_ += [spectrals[i]]\n",
    "            types_ += [types[i]]\n",
    "    \n",
    "    top.set_xticks([], minor=True)\n",
    "    top.set_xticks([ 10**((np.log10(spectrals_[k])+np.log10(spectrals_[k+1]))/2) \n",
    "                     for k in range(len(spectrals_)-1) ])\n",
    "    print(top.get_xticks())\n",
    "    \n",
    "    top.set_xticklabels(types_[1:]) \n",
    "    top.set_xlim(ax.get_xlim())\n",
    "    \n",
    "    return ax, spectrals_"
   ]
  },
  {
   "cell_type": "code",
   "execution_count": null,
   "metadata": {},
   "outputs": [],
   "source": [
    "np."
   ]
  },
  {
   "cell_type": "code",
   "execution_count": 248,
   "metadata": {},
   "outputs": [
    {
     "data": {
      "text/plain": [
       "array([20000.        , 14142.13562373, 10000.        ])"
      ]
     },
     "execution_count": 248,
     "metadata": {},
     "output_type": "execute_result"
    }
   ],
   "source": [
    "np.logspace(np.log10(20000), np.log10(10000), 3)"
   ]
  },
  {
   "cell_type": "code",
   "execution_count": 244,
   "metadata": {
    "tags": []
   },
   "outputs": [
    {
     "data": {
      "text/plain": [
       "17.320508075688775"
      ]
     },
     "execution_count": 244,
     "metadata": {},
     "output_type": "execute_result"
    }
   ],
   "source": [
    "10**((np.log10(30) + np.log10(10)) / 2)"
   ]
  },
  {
   "cell_type": "code",
   "execution_count": null,
   "metadata": {},
   "outputs": [
    {
     "data": {
      "text/plain": [
       "1.4771212547196624"
      ]
     },
     "execution_count": 220,
     "metadata": {},
     "output_type": "execute_result"
    }
   ],
   "source": [
    "np.log10(30)"
   ]
  },
  {
   "cell_type": "code",
   "execution_count": null,
   "metadata": {},
   "outputs": [
    {
     "data": {
      "text/plain": [
       "1.0"
      ]
     },
     "execution_count": 219,
     "metadata": {},
     "output_type": "execute_result"
    }
   ],
   "source": [
    "np.log10(10)"
   ]
  },
  {
   "cell_type": "code",
   "execution_count": null,
   "metadata": {
    "tags": []
   },
   "outputs": [
    {
     "data": {
      "text/plain": [
       "array([10.        , 17.32050808, 30.        ])"
      ]
     },
     "execution_count": 218,
     "metadata": {},
     "output_type": "execute_result"
    }
   ],
   "source": [
    "np.logspace(np.log10(10), np.log10(30), 3)"
   ]
  },
  {
   "cell_type": "code",
   "execution_count": 250,
   "metadata": {
    "tags": []
   },
   "outputs": [
    {
     "name": "stdout",
     "output_type": "stream",
     "text": [
      "[14142.13562373  8660.25403784  6708.2039325   5585.69601751\n",
      "  5099.01951359]\n"
     ]
    },
    {
     "data": {
      "text/plain": [
       "[20000.0, 10000.0, 7500.0, 6000.0, 5200.0, 5000.0]"
      ]
     },
     "execution_count": 250,
     "metadata": {},
     "output_type": "execute_result"
    }
   ],
   "source": [
    "add_spectral_background(ax)[-1]"
   ]
  },
  {
   "cell_type": "code",
   "execution_count": 209,
   "metadata": {
    "ExecuteTime": {
     "end_time": "2023-06-29T12:17:46.781280Z",
     "start_time": "2023-06-29T12:17:46.734196Z"
    },
    "tags": []
   },
   "outputs": [],
   "source": [
    "def add_radius_lines(ax, Rs=[10, 100], Tlower=1, Tupper=1e6, Lpos=6e3, \n",
    "                     sigma=5.67e-5, Lsol=3.839e33, Rsol=6.955e10):\n",
    "    L_ = lambda R, Teff: 4*np.pi*(R*Rsol)**2*sigma*Teff**4 / Lsol\n",
    "    T_ = lambda R, L: np.power(L*Lsol/(4*np.pi*(R*Rsol)**2*sigma), 1/4)\n",
    "    for R in Rs:\n",
    "        ax.text(T_(R, Lpos) + 0.03, Lpos*0.75, \n",
    "                 str(R)+r' R$_\\odot$', c='gray', size=16, weight='bold', rotation=-68)\n",
    "        ax.plot([Tlower,        Tupper], \n",
    "                         [L_(R, Tlower), L_(R, Tupper)], \n",
    "                 ls='--', c='k', lw=2, zorder=0)\n",
    "        \n",
    "    return ax"
   ]
  },
  {
   "cell_type": "code",
   "execution_count": 12,
   "metadata": {
    "ExecuteTime": {
     "end_time": "2023-06-29T12:17:46.829463Z",
     "start_time": "2023-06-29T12:17:46.782298Z"
    },
    "tags": []
   },
   "outputs": [],
   "source": [
    "norm = mpl.colors.Normalize(vmin=-0.5, vmax=5.5)\n",
    "cmap = mpl.cm.ScalarMappable(norm=norm, cmap=mpl.cm.Greys_r)\n",
    "vmin = int(norm.vmin)\n",
    "vmax = int(norm.vmax)"
   ]
  },
  {
   "cell_type": "code",
   "execution_count": 477,
   "metadata": {
    "tags": []
   },
   "outputs": [],
   "source": [
    "def simple_hr(track, label='', ylabel=r'Luminosity $\\mathbf{L/L_{\\odot}}$',\n",
    "              cbar_var=\"center_he4\", cbar_label=r\"$X_{\\rm He, center}$\",\n",
    "              fig=None, ax=None, show=True, **kwargs):\n",
    "    if fig is None or ax is None:\n",
    "        fig, ax = plt.subplots(figsize=(8,6))\n",
    "    \n",
    "    DF_ = track.history\n",
    "    if 's' not in kwargs:\n",
    "        kwargs['s'] = 5\n",
    "    ax.scatter(DF_['log_Teff'], DF_['log_L'], \n",
    "               c=DF_[cbar_var], **kwargs)\n",
    "    \n",
    "    if label != '':\n",
    "        ax.annotate(label, xy=(0.97, 0.97), xycoords=\"axes fraction\",\n",
    "                    weight='bold', size=0.8 * fs,\n",
    "                    ha='right', va='top')\n",
    "    # ax.set_ylim([5e1, 2e2])\n",
    "    # ax.set_xlim([2e4, 5e3])\n",
    "    ax.invert_xaxis()\n",
    "    ax.set_xlabel(r'Effective temperature $\\mathbf{T_{eff}/K}$')\n",
    "    ax.set_ylabel(ylabel)\n",
    "    \n",
    "    inset_ax = ax.inset_axes([0.48, 0.05, 0.5, 0.05])\n",
    "    fig.colorbar(ax.collections[0], label=cbar_label, cax=inset_ax, orientation=\"horizontal\", location=\"top\")\n",
    "    \n",
    "    # plt.tight_layout()\n",
    "    \n",
    "    if show:\n",
    "        plt.show()\n",
    "        \n",
    "    return fig, ax"
   ]
  },
  {
   "cell_type": "code",
   "execution_count": 261,
   "metadata": {
    "tags": []
   },
   "outputs": [],
   "source": [
    "from matplotlib.gridspec import GridSpec"
   ]
  },
  {
   "cell_type": "code",
   "execution_count": 516,
   "metadata": {
    "tags": []
   },
   "outputs": [],
   "source": [
    "def compare_composition(track, label='', ylabel=r'Luminosity $\\mathbf{L/L_{\\odot}}$',\n",
    "            cbar_var=\"center_he4\", cbar_label=r\"$X_{\\rm He, center}$\",\n",
    "            show=True, model_nums=[1, 50, 100], **kwargs):\n",
    "    n_comps = len(model_nums)\n",
    "    \n",
    "    fig = plt.figure(figsize=(18 / 3 * n_comps, 5.5))\n",
    "    gs = GridSpec(n_comps, n_comps, figure=fig, hspace=0.0)\n",
    "    ax_hr = fig.add_subplot(gs[:, 0])\n",
    "    ax_comp = [fig.add_subplot(gs[i, 1]) for i in range(n_comps)]\n",
    "\n",
    "    fig, ax = simple_hr(track, label=label, ylabel=ylabel, cbar_var=cbar_var, cbar_label=cbar_label,\n",
    "                        show=False, fig=fig, ax=ax_hr, **kwargs)\n",
    "    \n",
    "    lw = 3\n",
    "    H_col = plt.get_cmap(\"cividis\")(0.3)\n",
    "    He_col = plt.get_cmap(\"cividis\")(0.9)\n",
    "    for i, args in enumerate(zip(model_nums, ax_comp)):\n",
    "        model_num, ax = args\n",
    "        \n",
    "        lTeff, lL = track.history.loc[model_num - 1][\"log_Teff\"], track.history.loc[model_num - 1][\"log_L\"]\n",
    "        ax_hr.scatter(lTeff, lL,\n",
    "                      s=50, facecolors=\"none\", color=\"red\")\n",
    "        ax_hr.annotate(chr(ord('a') + i), xytext=(lTeff+0.01, lL - 0.005), xy=(lTeff, lL),\n",
    "                       arrowprops=dict(arrowstyle=\"-|>\", color=\"black\"),\n",
    "                       ha=\"center\", va=\"center\", fontsize=0.6*fs)\n",
    "        \n",
    "        ax.annotate(chr(ord('a') + i), xy=(0.97, 0.95),\n",
    "                    xycoords=\"axes fraction\", ha=\"right\", va=\"top\", fontsize=0.6*fs,\n",
    "                    bbox=dict(facecolor=\"lightgrey\", boxstyle=\"circle\"))\n",
    "        ax.annotate(f'Star Age: {track.history.loc[model_num - 1][\"star_age\"] / 1e6:1.1f}Myr', xy=(0.5, 0.95),\n",
    "                    xycoords=\"axes fraction\", ha=\"center\", va=\"top\", fontsize=0.6*fs)               \n",
    "        \n",
    "        ax.plot(track.profiles[model_num - 1][\"mass\"], track.profiles[model_num - 1][\"x_mass_fraction_H\"],\n",
    "                lw=lw, color=H_col, label=\"Hydrogen\")\n",
    "        ax.plot(track.profiles[model_num - 1][\"mass\"], track.profiles[model_num - 1][\"y_mass_fraction_He\"],\n",
    "                lw=lw, color=He_col, label=\"Helium\")\n",
    "        ax.set_xlim(0, 3)\n",
    "        ax.set_ylim(0, 1)\n",
    "        \n",
    "        for el in [\"center_h1\", \"center_he4\"]:\n",
    "            ax.axhline(track.history.iloc[0][el], color=\"grey\", linestyle=\"--\", lw=0.5, zorder=-1)\n",
    "\n",
    "        if ax != ax_comp[-1]:\n",
    "            ax.set_xticklabels([])\n",
    "        else:\n",
    "            ax.set_xlabel(r\"Mass $\\mathbf{M/M_{\\odot}}$\")\n",
    "            ax.legend(loc=\"lower right\", ncol=2, fontsize=0.4*fs)\n",
    "    \n",
    "    if show:\n",
    "        plt.show()\n",
    "        \n",
    "    return fig, ax"
   ]
  },
  {
   "cell_type": "code",
   "execution_count": 526,
   "metadata": {
    "tags": []
   },
   "outputs": [],
   "source": [
    "def interact_comp(a, b):\n",
    "    compare_composition(track, model_nums=[a, b], cbar_var=\"center_h1\", cbar_label=r\"$X_{\\rm H, center}$\", show=False)"
   ]
  },
  {
   "cell_type": "code",
   "execution_count": 435,
   "metadata": {
    "tags": []
   },
   "outputs": [],
   "source": [
    "model_min, model_max = track.history[\"model_number\"].min(), track.history[\"model_number\"].max()"
   ]
  },
  {
   "cell_type": "code",
   "execution_count": 527,
   "metadata": {
    "tags": []
   },
   "outputs": [
    {
     "data": {
      "application/vnd.jupyter.widget-view+json": {
       "model_id": "68629c76201949b79da0f884b9f1bc60",
       "version_major": 2,
       "version_minor": 0
      },
      "text/plain": [
       "interactive(children=(IntSlider(value=50, continuous_update=False, description='a', max=116, min=1), IntSlider…"
      ]
     },
     "metadata": {},
     "output_type": "display_data"
    }
   ],
   "source": [
    "interact(interact_comp,\n",
    "         a=IntSlider(value=50, min=model_min, max=model_max, continuous_update=False),\n",
    "         b=IntSlider(value=100, min=model_min, max=model_max, continuous_update=False));"
   ]
  },
  {
   "cell_type": "code",
   "execution_count": 252,
   "metadata": {
    "tags": []
   },
   "outputs": [],
   "source": [
    "def plot_hr(track, label='', ylabel=r'Luminosity $\\mathbf{L/L_{\\odot}}$',\n",
    "            cbar_var=\"center_he4\", cbar_label=r\"$X_{\\rm He, center}$\",\n",
    "            fig=None, ax=None, show=True, **kwargs):\n",
    "    if fig is None or ax is None:\n",
    "        fig, ax = plt.subplots(figsize=(8,6))\n",
    "    \n",
    "    DF_ = track.history\n",
    "    if 's' not in kwargs:\n",
    "        kwargs['s'] = 5\n",
    "    ax.scatter(10**DF_['log_Teff'], 10**DF_['log_L'], \n",
    "               c=DF_[cbar_var], **kwargs)\n",
    "    \n",
    "    if label != '':\n",
    "        ax.annotate(label, xy=(0.97, 0.97), xycoords=\"axes fraction\",\n",
    "                    weight='bold', size=0.8 * fs,\n",
    "                    ha='right', va='top')\n",
    "    ax.set_yscale(\"log\")\n",
    "    ax.set_xscale(\"log\")\n",
    "    ax.set_ylim([5e1, 2e2])\n",
    "    ax.set_xlim([2e4, 5e3])\n",
    "    # ax.invert_xaxis()\n",
    "    ax.set_xlabel(r'Effective temperature $\\mathbf{T_{eff}/K}$')\n",
    "    ax.set_ylabel(ylabel)\n",
    "    \n",
    "    # fig.colorbar(cmap, label=r'log $\\mathbf{v_{HR}}$', \n",
    "    #              boundaries=np.array(range(vmin, vmax+2, 1)) - 0.5, \n",
    "    #              ticks=range(vmin, vmax+1, 1), ax=ax)\n",
    "    \n",
    "    fig.colorbar(ax.collections[0], label=cbar_label, ax=ax)\n",
    "\n",
    "    add_radius_lines(ax, [2, 5], Lpos=2e2)\n",
    "    add_spectral_background(ax)\n",
    "    \n",
    "    # ax.set_xticks([], minor=True)\n",
    "    # ax.set_xticks([15000, 10000, 7500])\n",
    "    # ax.set_xticklabels(str(int(x)) for x in np.round(ax.get_xticks(), -1))\n",
    "    \n",
    "    plt.tight_layout()\n",
    "    \n",
    "    if show:\n",
    "        plt.show()\n",
    "        \n",
    "    return fig, ax"
   ]
  }
 ],
 "metadata": {
  "kernelspec": {
   "display_name": "Python 3 (ipykernel)",
   "language": "python",
   "name": "python3"
  },
  "language_info": {
   "codemirror_mode": {
    "name": "ipython",
    "version": 3
   },
   "file_extension": ".py",
   "mimetype": "text/x-python",
   "name": "python",
   "nbconvert_exporter": "python",
   "pygments_lexer": "ipython3",
   "version": "3.10.9"
  },
  "toc": {
   "base_numbering": 1,
   "nav_menu": {
    "height": "195px",
    "width": "335px"
   },
   "number_sections": true,
   "sideBar": true,
   "skip_h1_title": false,
   "title_cell": "Table of Contents",
   "title_sidebar": "Contents",
   "toc_cell": false,
   "toc_position": {
    "height": "calc(100% - 180px)",
    "left": "10px",
    "top": "150px",
    "width": "286px"
   },
   "toc_section_display": true,
   "toc_window_display": true
  },
  "varInspector": {
   "cols": {
    "lenName": 16,
    "lenType": 16,
    "lenVar": 40
   },
   "kernels_config": {
    "python": {
     "delete_cmd_postfix": "",
     "delete_cmd_prefix": "del ",
     "library": "var_list.py",
     "varRefreshCmd": "print(var_dic_list())"
    },
    "r": {
     "delete_cmd_postfix": ") ",
     "delete_cmd_prefix": "rm(",
     "library": "var_list.r",
     "varRefreshCmd": "cat(var_dic_list()) "
    }
   },
   "position": {
    "height": "665px",
    "left": "1420px",
    "right": "20px",
    "top": "159px",
    "width": "620px"
   },
   "types_to_exclude": [
    "module",
    "function",
    "builtin_function_or_method",
    "instance",
    "_Feature"
   ],
   "window_display": false
  }
 },
 "nbformat": 4,
 "nbformat_minor": 4
}
